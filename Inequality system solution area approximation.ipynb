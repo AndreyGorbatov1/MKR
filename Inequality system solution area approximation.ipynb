{
 "cells": [
  {
   "cell_type": "markdown",
   "metadata": {},
   "source": [
    "Реализовать алгоритм нахождения области, ограниченной неравествами.\n",
    "\n",
    "1. Задать систему неравенств\n",
    "2. Реализовать функцию, проверяющую попадание точки внуть области, ограниченной системой неравенств\n",
    "3. Реализовать построение сетки, охватывающей область\n",
    "4. Реализовать подсчёт площади на основе данных о попадании точки в область\n",
    "\n"
   ]
  },
  {
   "cell_type": "code",
   "execution_count": 1,
   "metadata": {},
   "outputs": [],
   "source": [
    "import numpy as np\n",
    "import matplotlib.pyplot as plt"
   ]
  },
  {
   "cell_type": "code",
   "execution_count": 2,
   "metadata": {},
   "outputs": [],
   "source": [
    "def f1(x):\n",
    "    return x"
   ]
  },
  {
   "cell_type": "code",
   "execution_count": 3,
   "metadata": {},
   "outputs": [],
   "source": [
    "def f2(x):\n",
    "    return -2"
   ]
  },
  {
   "cell_type": "code",
   "execution_count": 4,
   "metadata": {},
   "outputs": [],
   "source": [
    "def f3(x):\n",
    "    return -10"
   ]
  },
  {
   "cell_type": "code",
   "execution_count": 5,
   "metadata": {},
   "outputs": [],
   "source": [
    "def f4(x):\n",
    "    return -x+4"
   ]
  },
  {
   "cell_type": "code",
   "execution_count": 6,
   "metadata": {},
   "outputs": [],
   "source": [
    "def check_point(y, x):\n",
    "    if y - f1(x) > 0:\n",
    "        return 0\n",
    "    if y - f2(x) < 0:\n",
    "        return 0\n",
    "    if y - f3(x) < 0:\n",
    "        return 0\n",
    "    if y - f4(x) > 0:\n",
    "        return 0\n",
    "    return 1"
   ]
  },
  {
   "cell_type": "code",
   "execution_count": 9,
   "metadata": {},
   "outputs": [],
   "source": [
    "# def check_point2(y, x):\n",
    "#     count_upper = 0\n",
    "#     count_lower = 0\n",
    "#     num_of_func = 4\n",
    "    \n",
    "#     if y - f1(x) > 0:\n",
    "#         count_upper=count_upper+1\n",
    "#     else: \n",
    "#         count_lower=count_lower+1\n",
    "#     if y - f2(x) > 0:\n",
    "#         count_upper=count_upper+1 \n",
    "#     else: \n",
    "#         count_lower=count_lower+1\n",
    "#     if y - f3(x) > 0:\n",
    "#         count_upper=count_upper+1 \n",
    "#     else: \n",
    "#         count_lower=count_lower+1\n",
    "#     if y - f4(x) > 0:\n",
    "#         count_upper=count_upper+1 \n",
    "#     else: \n",
    "#         count_lower=count_lower+1\n",
    "        \n",
    "#     if(count_upper == 0):\n",
    "#         return 0\n",
    "#     if(count_lower == 0):\n",
    "#         return 0\n",
    "    \n",
    "#     return 1"
   ]
  },
  {
   "cell_type": "code",
   "execution_count": null,
   "metadata": {},
   "outputs": [],
   "source": []
  },
  {
   "cell_type": "code",
   "execution_count": null,
   "metadata": {},
   "outputs": [],
   "source": []
  },
  {
   "cell_type": "code",
   "execution_count": 10,
   "metadata": {},
   "outputs": [
    {
     "data": {
      "image/png": "[encoded data removed]",
      "text/plain": [
       "<Figure size 432x288 with 1 Axes>"
      ]
     },
     "metadata": {
      "needs_background": "light"
     },
     "output_type": "display_data"
    }
   ],
   "source": [
    "my_grid = []\n",
    "grid_size = 26\n",
    "grid_density = 10\n",
    "grid_y = np.arange(-11, grid_size-11,1/grid_density)\n",
    "grid_x = np.arange(-11, grid_size-11,1/grid_density)\n",
    "\n",
    "i=0\n",
    "while i < len(grid_y):\n",
    "    j=0\n",
    "    while j < len(grid_x):\n",
    "        my_grid.append((grid_x[i] , grid_y[j]))\n",
    "        j=j+1\n",
    "    \n",
    "    i=i+1\n",
    "    \n",
    "    \n",
    "grid_y = []\n",
    "grid_x = []      \n",
    "i=0\n",
    "while i < len(my_grid):\n",
    "    grid_y.append(my_grid[i][1])\n",
    "    grid_x.append(my_grid[i][0])\n",
    "    i=i+1\n",
    "\n",
    "\n",
    "y1 = np.arange(-10, 15)\n",
    "y2 = np.arange(-10, 15)\n",
    "y3 = np.arange(-10, 15)\n",
    "y4 = np.arange(-10, 15)\n",
    "\n",
    "x1 = [f1(x) for x in y1]\n",
    "x2 = [f2(x) for x in y2]\n",
    "x3 = [f3(x) for x in y3]\n",
    "x4 = [f4(x) for x in y4]\n",
    "\n",
    "plt.plot(y1, x1, '-o')\n",
    "plt.plot(y2, x2, '-o')\n",
    "plt.plot(y3, x3, '-o')\n",
    "plt.plot(y4, x4, '-o')\n",
    "plt.scatter(grid_x, grid_y, color = 'black')\n",
    "plt.show()"
   ]
  },
  {
   "cell_type": "code",
   "execution_count": 11,
   "metadata": {},
   "outputs": [],
   "source": [
    "nodes_inside = []\n",
    "i = 0\n",
    "while i < len(my_grid):\n",
    "    if(check_point(my_grid[i][1], my_grid[i][0]) == 1):\n",
    "        nodes_inside.append(my_grid[i])\n",
    "    i=i+1"
   ]
  },
  {
   "cell_type": "code",
   "execution_count": null,
   "metadata": {},
   "outputs": [],
   "source": []
  },
  {
   "cell_type": "code",
   "execution_count": 12,
   "metadata": {},
   "outputs": [],
   "source": [
    "def count_area(nodes):\n",
    "    S=0\n",
    "    i=0\n",
    "    row_len = grid_size*grid_density\n",
    "    while i < len(my_grid)-row_len:\n",
    "        j=i\n",
    "        while j < i+row_len-1:\n",
    "            nodes_inside = 0\n",
    "            if(check_point(my_grid[j][1], my_grid[j][0]) == 1):\n",
    "                nodes_inside=nodes_inside+1\n",
    "            if(check_point(my_grid[j+1][1], my_grid[j+1][0]) == 1):\n",
    "                nodes_inside=nodes_inside+1\n",
    "            if(check_point(my_grid[j+row_len][1], my_grid[j+row_len][0]) == 1):\n",
    "                nodes_inside=nodes_inside+1\n",
    "            if(check_point(my_grid[j+row_len+1][1], my_grid[j+grid_size+1][0]) == 1):\n",
    "                nodes_inside=nodes_inside+1\n",
    "                \n",
    "            if(nodes_inside == 4):\n",
    "                S=S+1\n",
    "            if(nodes_inside == 1 or nodes_inside == 2 or nodes_inside == 3):\n",
    "                S=S+(1/2)\n",
    "            j=j+1\n",
    "        i=i+row_len\n",
    "\n",
    "    return S/grid_density**2"
   ]
  },
  {
   "cell_type": "code",
   "execution_count": 13,
   "metadata": {},
   "outputs": [
    {
     "data": {
      "text/plain": [
       "16.2"
      ]
     },
     "execution_count": 13,
     "metadata": {},
     "output_type": "execute_result"
    }
   ],
   "source": [
    "count_area(my_grid)\n",
    "#Must be 16"
   ]
  },
  {
   "cell_type": "markdown",
   "metadata": {},
   "source": [
    "Вопросы:\n",
    "\n",
    "1) Как задавать уравнения?\n",
    "\n",
    "2) Как проверять попадание точки сетки в область решения? Можно ли решить задачу, не записав самому, какой должна быть разность y - f(x) для каждой кривой?\n",
    "\n",
    "3) Каким образом считать объём для n>=4? Это очень затратно по ресурсам, например.\n",
    "\n",
    "4) Как находить истинный объём при n>=4? (То есть за объём считать количество n-мерных кубов, поместившихся в область?)\n",
    "\n"
   ]
  },
  {
   "cell_type": "code",
   "execution_count": null,
   "metadata": {},
   "outputs": [],
   "source": []
  },
  {
   "cell_type": "code",
   "execution_count": null,
   "metadata": {},
   "outputs": [],
   "source": []
  }
 ],
 "metadata": {
  "kernelspec": {
   "display_name": "Python 3",
   "language": "python",
   "name": "python3"
  },
  "language_info": {
   "codemirror_mode": {
    "name": "ipython",
    "version": 3
   },
   "file_extension": ".py",
   "mimetype": "text/x-python",
   "name": "python",
   "nbconvert_exporter": "python",
   "pygments_lexer": "ipython3",
   "version": "3.6.7"
  }
 },
 "nbformat": 4,
 "nbformat_minor": 2
}
