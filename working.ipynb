{
 "cells": [
  {
   "cell_type": "code",
   "execution_count": 1,
   "metadata": {},
   "outputs": [],
   "source": [
    "import numpy as np\n",
    "\n",
    "from scipy.optimize import fsolve\n",
    "import matplotlib.pyplot as plt\n",
    "\n",
    "l = 13 # l у основания\n",
    "L = 4.25 #L\n",
    "d = 12\n",
    "\n",
    "\n",
    "# def kinematic_eq(z):\n",
    "#     x = z[0]\n",
    "#     y = z[1]\n",
    "#     t1 = z[2]\n",
    "#     t2 = z[3]\n",
    "\n",
    "#     F = np.empty((4))\n",
    "#     F[0] = (x-l*np.cos(t1)-L*np.cos(f1))\n",
    "#     F[1] =         (x-l*np.cos(t2)-L*np.cos(f2)-d)\n",
    "#     F[2] =         (y-l*np.sin(t1)-L*np.sin(f1))\n",
    "#     F[3] =         (y-l*np.sin(t2)-L*np.sin(f2))\n",
    "    \n",
    "#     return F\n",
    "\n",
    "# def myJac(z):\n",
    "#     x = z[0]\n",
    "#     y = z[1]\n",
    "#     t1 = z[2]\n",
    "#     t2 = z[3]\n",
    "#     return [[1,0,l*np.sin(t1),0],\n",
    "#             [1,0,0,l*np.sin(t2)],\n",
    "#             [0,1,-l*np.cos(t1),0],\n",
    "#             [0,1,0,-l*np.cos(t2)]]\n",
    "\n",
    "# zGuess = np.array([1,1,1,1])\n",
    "# z = fsolve(kinematic_eq,zGuess, fprime = myJac(zGuess))\n",
    "# print(z)"
   ]
  },
  {
   "cell_type": "code",
   "execution_count": 2,
   "metadata": {},
   "outputs": [],
   "source": [
    "appr = [ \n",
    "        [1,1,1,1,1],\n",
    "        [1,1,1,1,-1],\n",
    "        [1,1,1,-1,1],\n",
    "        [1,1,1,-1,-1],\n",
    "    \n",
    "        [1,1,-1,1,1],\n",
    "        [1,1,-1,1,-1],\n",
    "        [1,1,-1,-1,1],\n",
    "        [1,1,-1,-1,-1],\n",
    "    \n",
    "        [1,-1,1,1,1],\n",
    "        [1,-1,1,1,-1],\n",
    "        [1,-1,1,-1,1],\n",
    "        [1,-1,1,-1,-1],\n",
    "    \n",
    "        [1,-1,-1,1,1],\n",
    "        [1,-1,-1,1,-1],\n",
    "        [1,-1,-1,-1,1],\n",
    "        [1,-1,-1,-1,-1],\n",
    "    \n",
    "        [-1,1,1,1,1],\n",
    "        [-1,1,1,1,-1],\n",
    "        [-1,1,1,-1,1],\n",
    "        [-1,1,1,-1,-1],\n",
    "    \n",
    "        [-1,1,-1,1,1],\n",
    "        [-1,1,-1,1,-1],\n",
    "        [-1,1,-1,-1,1],\n",
    "        [-1,1,-1,-1,-1],\n",
    "    \n",
    "        [-1,-1,1,1,1],\n",
    "        [-1,-1,1,1,-1],\n",
    "        [-1,-1,1,-1,1],\n",
    "        [-1,-1,1,-1,-1],\n",
    "    \n",
    "        [-1,-1,-1,1,1],\n",
    "        [-1,-1,-1,1,-1],\n",
    "        [-1,-1,-1,-1,1],\n",
    "        [-1,-1,-1,-1,-1]\n",
    "        ]"
   ]
  },
  {
   "cell_type": "code",
   "execution_count": 3,
   "metadata": {},
   "outputs": [
    {
     "name": "stdout",
     "output_type": "stream",
     "text": [
      "[ 6.00000001 12.88167303 14.00214164 14.27219225  3.14159266]\n"
     ]
    }
   ],
   "source": [
    "import numpy as np\n",
    "from scipy.optimize import fsolve\n",
    "\n",
    "l = 13 # l у основания\n",
    "L = 4.25 #L\n",
    "d = 12\n",
    "\n",
    "f1 = 0\n",
    "f2 = 0\n",
    "\n",
    "\n",
    "def kinematic_eq(z):\n",
    "    x = z[0]\n",
    "    y = z[1]\n",
    "    t1 = z[2]\n",
    "    t2 = z[3]\n",
    "    f2 = z[4]\n",
    "\n",
    "    F = np.empty((5))\n",
    "    F[0] = (x-l*np.cos(t1)-L*np.cos(f1))\n",
    "    F[1] = (x-l*np.cos(t2)-L*np.cos(f2)-d)\n",
    "    F[2] = (y-l*np.sin(t1)-L*np.sin(f1))\n",
    "    F[3] = (y-l*np.sin(t2)-L*np.sin(f2))\n",
    "    F[4] = np.sin(f2-f1)\n",
    "    \n",
    "    return F\n",
    "\n",
    "zGuess = np.array([1,1,1,1,1])\n",
    "z = fsolve(kinematic_eq,zGuess)\n",
    "print(z)"
   ]
  },
  {
   "cell_type": "code",
   "execution_count": 4,
   "metadata": {},
   "outputs": [],
   "source": [
    "S = 1"
   ]
  },
  {
   "cell_type": "code",
   "execution_count": 5,
   "metadata": {},
   "outputs": [],
   "source": [
    "#генерирую всевозможные углы\n",
    "num = 7000\n",
    "tol = 0.00000001\n",
    "phi1 = np.linspace(0, 2*np.pi, num)\n",
    "phi2 = []\n",
    "\n",
    "sing2 = []\n",
    "\n",
    "#перебираю все комбинации углов на удовлетворение условиям сингулярности\n",
    "for k in range(len(phi1)):\n",
    "#     phi2.append(phi1[k]+np.pi)\n",
    "    sing2.append([phi1[k]])"
   ]
  },
  {
   "cell_type": "code",
   "execution_count": 8,
   "metadata": {},
   "outputs": [
    {
     "name": "stderr",
     "output_type": "stream",
     "text": [
      "C:\\ProgramData\\Anaconda3\\lib\\site-packages\\scipy\\optimize\\minpack.py:162: RuntimeWarning: The iteration is not making good progress, as measured by the \n",
      "  improvement from the last ten iterations.\n",
      "  warnings.warn(msg, RuntimeWarning)\n",
      "C:\\ProgramData\\Anaconda3\\lib\\site-packages\\scipy\\optimize\\minpack.py:162: RuntimeWarning: The iteration is not making good progress, as measured by the \n",
      "  improvement from the last five Jacobian evaluations.\n",
      "  warnings.warn(msg, RuntimeWarning)\n"
     ]
    }
   ],
   "source": [
    "z = []\n",
    "\n",
    "for i in sing2:\n",
    "    j=0\n",
    "    while j < 32:\n",
    "        f1 = i[0]\n",
    "        zGuess = appr[j]\n",
    "        x_tmp = fsolve(kinematic_eq,zGuess)\n",
    "        f_tmp = kinematic_eq(x_tmp)\n",
    "        ar_tmp = np.array(f_tmp)\n",
    "        if np.linalg.norm(ar_tmp) < tol:\n",
    "            z.append(np.append(x_tmp, f1))\n",
    "        j+=1"
   ]
  },
  {
   "cell_type": "code",
   "execution_count": 9,
   "metadata": {},
   "outputs": [],
   "source": [
    "sing_xy1 = []\n",
    "\n",
    "for i in z:\n",
    "    sing_xy1.append([i[0],i[1]])\n",
    "    "
   ]
  },
  {
   "cell_type": "code",
   "execution_count": 10,
   "metadata": {},
   "outputs": [
    {
     "data": {
      "image/png": "[encoded data removed]",
      "text/plain": [
       "<Figure size 432x288 with 1 Axes>"
      ]
     },
     "metadata": {
      "needs_background": "light"
     },
     "output_type": "display_data"
    }
   ],
   "source": [
    "plt.scatter(*zip(*sing_xy1), color = 'orange', s=0.5)\n",
    "plt.show()"
   ]
  },
  {
   "cell_type": "code",
   "execution_count": null,
   "metadata": {},
   "outputs": [],
   "source": [
    "i=0\n",
    "extra = []\n",
    "\n",
    "while i < len(sing_xy1):\n",
    "    if z[i][1] > -5 and z[i][1] < 5:\n",
    "        extra.append(z[i])\n",
    "    i+=1\n",
    "print(extra)"
   ]
  },
  {
   "cell_type": "code",
   "execution_count": null,
   "metadata": {},
   "outputs": [],
   "source": [
    "f1=extra[2][4]\n",
    "\n",
    "ze = [extra[2][0],extra[2][1],extra[2][2],extra[2][3],extra[2][5]]\n",
    "print(kinematic_eq(ze))"
   ]
  },
  {
   "cell_type": "code",
   "execution_count": null,
   "metadata": {},
   "outputs": [],
   "source": [
    "check_right = [z[1][0],z[1][1],z[1][2],z[1][3],z[1][5]]\n",
    "check_right"
   ]
  },
  {
   "cell_type": "code",
   "execution_count": null,
   "metadata": {
    "scrolled": true
   },
   "outputs": [],
   "source": [
    "f1 = z[1][4]\n",
    "print(kinematic_eq(check_right))"
   ]
  },
  {
   "cell_type": "code",
   "execution_count": null,
   "metadata": {},
   "outputs": [],
   "source": []
  }
 ],
 "metadata": {
  "kernelspec": {
   "display_name": "Python 3",
   "language": "python",
   "name": "python3"
  },
  "language_info": {
   "codemirror_mode": {
    "name": "ipython",
    "version": 3
   },
   "file_extension": ".py",
   "mimetype": "text/x-python",
   "name": "python",
   "nbconvert_exporter": "python",
   "pygments_lexer": "ipython3",
   "version": "3.7.3"
  }
 },
 "nbformat": 4,
 "nbformat_minor": 2
}
