{
 "cells": [
  {
   "cell_type": "code",
   "execution_count": 1,
   "metadata": {},
   "outputs": [],
   "source": [
    "import numpy as np\n",
    "import matplotlib.pyplot as plt\n",
    "from scipy.optimize import minimize, rosen, rosen_der, fsolve\n",
    "import math\n",
    "import numpy.linalg as LA"
   ]
  },
  {
   "cell_type": "code",
   "execution_count": 2,
   "metadata": {},
   "outputs": [],
   "source": [
    "#Задаём константы\n",
    "tol = 0.00001\n",
    "\n",
    "la = 13 # l у основания\n",
    "lb = 13 # l у основания\n",
    "lc = 4.25 #L\n",
    "ld = 4.25 #L\n",
    "l = la # l у основания\n",
    "L = lc #L\n",
    "d = 12\n",
    "\n",
    "f1 = 0\n",
    "f2 = 0\n",
    "work_space = []"
   ]
  },
  {
   "cell_type": "code",
   "execution_count": 3,
   "metadata": {},
   "outputs": [],
   "source": [
    "# 32 комбинации для начальных точек \n",
    "appr = [[1,1,1,1,1],\n",
    "        [1,1,1,1,-1],\n",
    "        [1,1,1,-1,1],\n",
    "        [1,1,1,-1,-1],\n",
    "    \n",
    "        [1,1,-1,1,1],\n",
    "        [1,1,-1,1,-1],\n",
    "        [1,1,-1,-1,1],\n",
    "        [1,1,-1,-1,-1],\n",
    "    \n",
    "        [1,-1,1,1,1],\n",
    "        [1,-1,1,1,-1],\n",
    "        [1,-1,1,-1,1],\n",
    "        [1,-1,1,-1,-1],\n",
    "    \n",
    "        [1,-1,-1,1,1],\n",
    "        [1,-1,-1,1,-1],\n",
    "        [1,-1,-1,-1,1],\n",
    "        [1,-1,-1,-1,-1],\n",
    "    \n",
    "        [-1,1,1,1,1],\n",
    "        [-1,1,1,1,-1],\n",
    "        [-1,1,1,-1,1],\n",
    "        [-1,1,1,-1,-1],\n",
    "    \n",
    "        [-1,1,-1,1,1],\n",
    "        [-1,1,-1,1,-1],\n",
    "        [-1,1,-1,-1,1],\n",
    "        [-1,1,-1,-1,-1],\n",
    "    \n",
    "        [-1,-1,1,1,1],\n",
    "        [-1,-1,1,1,-1],\n",
    "        [-1,-1,1,-1,1],\n",
    "        [-1,-1,1,-1,-1],\n",
    "    \n",
    "        [-1,-1,-1,1,1],\n",
    "        [-1,-1,-1,1,-1],\n",
    "        [-1,-1,-1,-1,1],\n",
    "        [-1,-1,-1,-1,-1]]"
   ]
  },
  {
   "cell_type": "code",
   "execution_count": 4,
   "metadata": {},
   "outputs": [],
   "source": [
    "#Условие попадания в рабочую область\n",
    "#     D1=(\n",
    "#         2 * (-1*(x+d/2)/(y)) * ( (x+d/2)**2/(2*y) + y/2 + (la**2-lc**2)/(2*y) )\n",
    "#         )**2\n",
    "#         -4*(1 + (x+d/2)**2/(y**2) ) * ( \n",
    "#                                         ( (x+d/2)**2/(2*y) + y/2 + (la**2-lc**2)/(2*y) )\n",
    "#                                         )**2 -la**2\n",
    "#                                      ) \n",
    "#     D2=(\n",
    "#         2 * (-1*(x-d/2)/(y)) * ( (x-d/2)**2/(2*y) + y/2 + (la**2-lc**2)/(2*y) )\n",
    "#         )**2\n",
    "#         -4*(1 + (x-d/2)**2/(y**2) ) * ( \n",
    "#                                         ( (x-d/2)**2/(2*y) + y/2 + (la**2-lc**2)/(2*y) )\n",
    "#                                         )**2 -la**2\n",
    "#                                      )     "
   ]
  },
  {
   "cell_type": "code",
   "execution_count": 5,
   "metadata": {},
   "outputs": [],
   "source": [
    "#задаём функцию, работающую, как чёрный ящик, которая принимает точку и d и говорит, попали ли мы в рабочую область\n",
    "def is_inside(x, y, d):\n",
    "    D1=(2 * (-1*(x)/(y)) * ( (x)**2/(2*y) + y/2 + (la**2-lc**2)/(2*y) ))**2 - 4*(1 + ((x)**2)/(y**2) ) * ( ( (x)**2/(2*y) + y/2 + (la**2-lc**2)/(2*y) )**2 - la**2) \n",
    "    D2=(2 * (-1*(x-d)/(y)) * ( (x-d)**2/(2*y) + y/2 + (la**2-lc**2)/(2*y) ))**2 - 4*(1 + ((x-d)**2)/(y**2) ) * ( ( (x-d)**2/(2*y) + y/2 + (la**2-lc**2)/(2*y) )**2 - la**2)     \n",
    "    if D1 >= 0 and D2 >= 0:\n",
    "        work_space.append([x,y])\n",
    "        return 1\n",
    "    return 0"
   ]
  },
  {
   "cell_type": "code",
   "execution_count": 6,
   "metadata": {},
   "outputs": [],
   "source": [
    "#kinematic equations functions\n",
    "def kinematic_eq_sing1(z):\n",
    "    x = z[0]\n",
    "    y = z[1]\n",
    "    t1 = z[2]\n",
    "    t2 = z[3]\n",
    "    f2 = z[4]\n",
    "\n",
    "    F = np.empty((5))\n",
    "    F[0] = (x-l*np.cos(t1)-L*np.cos(f1))\n",
    "    F[1] = (x-l*np.cos(t2)-L*np.cos(f2)-d)\n",
    "    F[2] = (y-l*np.sin(t1)-L*np.sin(f1))\n",
    "    F[3] = (y-l*np.sin(t2)-L*np.sin(f2))\n",
    "    F[4] = np.sin(t1-f1)\n",
    "    \n",
    "    return F\n",
    "\n",
    "def kinematic_eq_sing2(z):\n",
    "#сюда идёт другой вектор\n",
    "    x = z[0]\n",
    "    y = z[1]\n",
    "    t1 = z[2]\n",
    "    t2 = z[3]\n",
    "    f1 = z[4]\n",
    "\n",
    "    F = np.empty((5))\n",
    "    F[0] = (x-l*np.cos(t1)-L*np.cos(f1))\n",
    "    F[1] = (x-l*np.cos(t2)-L*np.cos(f2)-d)\n",
    "    F[2] = (y-l*np.sin(t1)-L*np.sin(f1))\n",
    "    F[3] = (y-l*np.sin(t2)-L*np.sin(f2))\n",
    "    F[4] = np.sin(t2-f2)\n",
    "    \n",
    "    return F\n",
    "\n",
    "def kinematic_eq_sing3(z):\n",
    "    x = z[0]\n",
    "    y = z[1]\n",
    "    t1 = z[2]\n",
    "    t2 = z[3]\n",
    "    f2 = z[4]\n",
    "\n",
    "    F = np.empty((5))\n",
    "    F[0] = (x-l*np.cos(t1)-L*np.cos(f1))\n",
    "    F[1] = (x-l*np.cos(t2)-L*np.cos(f2)-d)\n",
    "    F[2] = (y-l*np.sin(t1)-L*np.sin(f1))\n",
    "    F[3] = (y-l*np.sin(t2)-L*np.sin(f2))\n",
    "    F[4] = np.sin(f2-f1)\n",
    "    \n",
    "    return F"
   ]
  },
  {
   "cell_type": "code",
   "execution_count": 7,
   "metadata": {},
   "outputs": [
    {
     "name": "stdout",
     "output_type": "stream",
     "text": [
      "Robot work area:\n"
     ]
    },
    {
     "data": {
      "image/png": "[encoded data removed]",
      "text/plain": [
       "<Figure size 432x288 with 1 Axes>"
      ]
     },
     "metadata": {
      "needs_background": "light"
     },
     "output_type": "display_data"
    }
   ],
   "source": [
    "# окружности в питоне легче всего задавать через сферические координаты\n",
    "# тета меняется от 0 до 2pi\n",
    "theta = np.linspace(0, 2*np.pi, 100)\n",
    "\n",
    "x1 = (la+lc)*np.cos(theta)\n",
    "x2 = (la+lc)*np.sin(theta)\n",
    "x3 = 2*lc*np.cos(theta)\n",
    "x4 = 2*lc*np.sin(theta)\n",
    "x5 = (la+lc)*np.cos(theta)+d\n",
    "x6 = (la+lc)*np.sin(theta)\n",
    "x7 = 2*lc*np.cos(theta)+d\n",
    "x8 = 2*lc*np.sin(theta)\n",
    "\n",
    "#задаю сетку для расчёта рабочей области\n",
    "gr_x = np.linspace(-20, 20, 300)\n",
    "gr_y = np.linspace(-20, 20, 300)\n",
    "# gr_x = np.linspace(-(la+lc), la+lc+d, 250)\n",
    "# gr_y = np.linspace(-(la+lc), la+lc+d, 250)\n",
    "gr_X, gr_Y = np.meshgrid(gr_x,gr_y)\n",
    "    \n",
    "fig, ax = plt.subplots(1)\n",
    "ax.plot(x1, x2)\n",
    "ax.plot(x3, x4)\n",
    "ax.plot(x5, x6)\n",
    "ax.plot(x7, x8)\n",
    "ax.set_aspect(1)\n",
    "plt.xlabel('x')\n",
    "plt.ylabel('y')\n",
    "print('Robot work area:')\n",
    "# plt.show()\n",
    "\n",
    "# plt.scatter(gr_X, gr_Y, color = 'black')\n",
    "# plt.show()"
   ]
  },
  {
   "cell_type": "code",
   "execution_count": 36,
   "metadata": {},
   "outputs": [],
   "source": [
    "#функция подсчёта площади\n",
    "def count_area_new(d_iter):\n",
    "    S_square=40*40\n",
    "    number_of_points = len(gr_x)*len(gr_y) #50 000\n",
    "    number_inside = 0\n",
    "    for i in range(len(gr_x)):\n",
    "        for j in range(len(gr_y)):\n",
    "            number_inside+=is_inside(gr_x[i], gr_y[j], d_iter)\n",
    "#             is_gran(gr_x[i], gr_y[j], d_iter)\n",
    "#     S=(S_square*number_inside/number_of_points) # /2 из-за того, что области на графике две, но в реальности она одна\n",
    "    S = S_square*len(work_space)/number_of_points\n",
    "    return S"
   ]
  },
  {
   "cell_type": "code",
   "execution_count": 37,
   "metadata": {},
   "outputs": [
    {
     "data": {
      "text/plain": [
       "1272.568888888889"
      ]
     },
     "execution_count": 37,
     "metadata": {},
     "output_type": "execute_result"
    }
   ],
   "source": [
    "count_area_new(d)"
   ]
  },
  {
   "cell_type": "code",
   "execution_count": 22,
   "metadata": {},
   "outputs": [
    {
     "name": "stdout",
     "output_type": "stream",
     "text": [
      "Robot work area:\n"
     ]
    },
    {
     "data": {
      "image/png": "[encoded data removed]",
      "text/plain": [
       "<Figure size 432x288 with 1 Axes>"
      ]
     },
     "metadata": {
      "needs_background": "light"
     },
     "output_type": "display_data"
    }
   ],
   "source": [
    "# отрисовка рабочей области\n",
    "print('Robot work area:')\n",
    "fig, ax = plt.subplots(1)\n",
    "ax.plot(x1, x2)\n",
    "ax.plot(x3, x4)\n",
    "ax.plot(x5, x6)\n",
    "ax.plot(x7, x8)\n",
    "plt.scatter(*zip(*work_space), color = 'orange', s=0.2)\n",
    "# plt.scatter(*zip(*gran), color = 'black')\n",
    "plt.axis('equal')\n",
    "plt.xlabel('x')\n",
    "plt.ylabel('y')\n",
    "plt.show()"
   ]
  },
  {
   "cell_type": "code",
   "execution_count": null,
   "metadata": {},
   "outputs": [],
   "source": []
  },
  {
   "cell_type": "code",
   "execution_count": 11,
   "metadata": {},
   "outputs": [],
   "source": [
    "#генерирую всевозможные углы\n",
    "num = 2000\n",
    "phi1 = np.linspace(0, 2*np.pi, num)\n",
    "phi2 = np.linspace(0, 2*np.pi, num)\n",
    "\n",
    "sing1 = []\n",
    "sing2 = []\n",
    "\n",
    "for k in range(len(phi1)):\n",
    "    sing1.append([phi1[k]])\n",
    "for k in range(len(phi2)):\n",
    "    sing2.append([phi2[k]])"
   ]
  },
  {
   "cell_type": "code",
   "execution_count": 12,
   "metadata": {},
   "outputs": [
    {
     "name": "stderr",
     "output_type": "stream",
     "text": [
      "C:\\ProgramData\\Anaconda3\\lib\\site-packages\\scipy\\optimize\\minpack.py:162: RuntimeWarning: The iteration is not making good progress, as measured by the \n",
      "  improvement from the last five Jacobian evaluations.\n",
      "  warnings.warn(msg, RuntimeWarning)\n",
      "C:\\ProgramData\\Anaconda3\\lib\\site-packages\\scipy\\optimize\\minpack.py:162: RuntimeWarning: The iteration is not making good progress, as measured by the \n",
      "  improvement from the last ten iterations.\n",
      "  warnings.warn(msg, RuntimeWarning)\n"
     ]
    }
   ],
   "source": [
    "z1 = []\n",
    "for i in sing1:\n",
    "    j=0\n",
    "    while j < len(appr):\n",
    "        f1 = i[0]\n",
    "        zGuess = appr[j]\n",
    "        x_tmp1 = fsolve(kinematic_eq_sing1,zGuess)\n",
    "        f_tmp1 = kinematic_eq_sing1(x_tmp1)\n",
    "        ar_tmp1 = np.array(f_tmp1)\n",
    "        if np.linalg.norm(ar_tmp1) < tol:\n",
    "#          print(np.linalg.norm(ar_tmp1))\n",
    "            z1.append(np.append(x_tmp1, f1))\n",
    "        j+=1"
   ]
  },
  {
   "cell_type": "code",
   "execution_count": 13,
   "metadata": {},
   "outputs": [],
   "source": [
    "sing_xy1 = []\n",
    "for i in z1:\n",
    "    sing_xy1.append([i[0],i[1]])"
   ]
  },
  {
   "cell_type": "code",
   "execution_count": 14,
   "metadata": {},
   "outputs": [
    {
     "data": {
      "image/png": "[encoded data removed]",
      "text/plain": [
       "<Figure size 432x288 with 1 Axes>"
      ]
     },
     "metadata": {
      "needs_background": "light"
     },
     "output_type": "display_data"
    }
   ],
   "source": [
    "plt.scatter(*zip(*sing_xy1), color = 'orange', s=0.5)\n",
    "plt.axis('equal')\n",
    "plt.xlabel('x')\n",
    "plt.ylabel('y')\n",
    "plt.show()"
   ]
  },
  {
   "cell_type": "code",
   "execution_count": null,
   "metadata": {},
   "outputs": [],
   "source": []
  },
  {
   "cell_type": "code",
   "execution_count": 15,
   "metadata": {},
   "outputs": [],
   "source": [
    "z2 = []\n",
    "for i in sing2:\n",
    "    j=0\n",
    "    while j < len(appr):\n",
    "        f2 = i[0]\n",
    "        zGuess = appr[j]\n",
    "        x_tmp2 = fsolve(kinematic_eq_sing2,zGuess)\n",
    "        f_tmp2 = kinematic_eq_sing2(x_tmp2)\n",
    "        ar_tmp2 = np.array(f_tmp2)\n",
    "        if np.linalg.norm(ar_tmp2) < tol:\n",
    "            z2.append(np.append(x_tmp2, f2))\n",
    "        j+=1"
   ]
  },
  {
   "cell_type": "code",
   "execution_count": 16,
   "metadata": {},
   "outputs": [],
   "source": [
    "sing_xy2 = []\n",
    "for i in z2:\n",
    "    sing_xy2.append([i[0],i[1]])"
   ]
  },
  {
   "cell_type": "code",
   "execution_count": 17,
   "metadata": {},
   "outputs": [
    {
     "data": {
      "image/png": "[encoded data removed]",
      "text/plain": [
       "<Figure size 432x288 with 1 Axes>"
      ]
     },
     "metadata": {
      "needs_background": "light"
     },
     "output_type": "display_data"
    }
   ],
   "source": [
    "plt.scatter(*zip(*sing_xy2), color = 'orange', s=0.5)\n",
    "plt.axis('equal')\n",
    "plt.xlabel('x')\n",
    "plt.ylabel('y')\n",
    "plt.show()"
   ]
  },
  {
   "cell_type": "code",
   "execution_count": null,
   "metadata": {},
   "outputs": [],
   "source": []
  },
  {
   "cell_type": "code",
   "execution_count": 18,
   "metadata": {},
   "outputs": [],
   "source": [
    "z3 = []\n",
    "for i in sing1:\n",
    "    j=0\n",
    "    while j < len(appr):\n",
    "        f1 = i[0]\n",
    "        zGuess = appr[j]\n",
    "        x_tmp3 = fsolve(kinematic_eq_sing3,zGuess)\n",
    "        f_tmp3 = kinematic_eq_sing3(x_tmp3)\n",
    "        ar_tmp3 = np.array(f_tmp3)\n",
    "        if np.linalg.norm(ar_tmp3) < tol:\n",
    "            z3.append(np.append(x_tmp3, f1))\n",
    "        j+=1"
   ]
  },
  {
   "cell_type": "code",
   "execution_count": 19,
   "metadata": {},
   "outputs": [],
   "source": [
    "sing_xy3 = []\n",
    "for i in z3:\n",
    "    sing_xy3.append([i[0],i[1]])"
   ]
  },
  {
   "cell_type": "code",
   "execution_count": 20,
   "metadata": {},
   "outputs": [
    {
     "data": {
      "image/png": "[encoded data removed]",
      "text/plain": [
       "<Figure size 432x288 with 1 Axes>"
      ]
     },
     "metadata": {
      "needs_background": "light"
     },
     "output_type": "display_data"
    }
   ],
   "source": [
    "plt.scatter(*zip(*sing_xy3), color = 'orange', s=0.5)\n",
    "plt.axis('equal')\n",
    "plt.xlabel('x')\n",
    "plt.ylabel('y')\n",
    "plt.show()"
   ]
  },
  {
   "cell_type": "code",
   "execution_count": 21,
   "metadata": {},
   "outputs": [
    {
     "data": {
      "image/png": "[encoded data removed]",
      "text/plain": [
       "<Figure size 432x288 with 1 Axes>"
      ]
     },
     "metadata": {
      "needs_background": "light"
     },
     "output_type": "display_data"
    }
   ],
   "source": [
    "plt.scatter(*zip(*sing_xy1), color = 'red', s=0.5)\n",
    "plt.scatter(*zip(*sing_xy2), color = 'blue', s=0.5)\n",
    "plt.scatter(*zip(*sing_xy3), color = 'orange', s=0.5)\n",
    "plt.axis('equal')\n",
    "plt.xlabel('x')\n",
    "plt.ylabel('y')\n",
    "plt.show()"
   ]
  },
  {
   "cell_type": "code",
   "execution_count": 25,
   "metadata": {},
   "outputs": [
    {
     "data": {
      "text/plain": [
       "20452"
      ]
     },
     "execution_count": 25,
     "metadata": {},
     "output_type": "execute_result"
    }
   ],
   "source": [
    "len(work_space)"
   ]
  },
  {
   "cell_type": "code",
   "execution_count": 26,
   "metadata": {},
   "outputs": [
    {
     "data": {
      "text/plain": [
       "90000"
      ]
     },
     "execution_count": 26,
     "metadata": {},
     "output_type": "execute_result"
    }
   ],
   "source": [
    "300*300"
   ]
  },
  {
   "cell_type": "code",
   "execution_count": 33,
   "metadata": {},
   "outputs": [
    {
     "data": {
      "text/plain": [
       "4.400547623704283"
      ]
     },
     "execution_count": 33,
     "metadata": {},
     "output_type": "execute_result"
    }
   ],
   "source": [
    "20452/90000"
   ]
  },
  {
   "cell_type": "code",
   "execution_count": null,
   "metadata": {},
   "outputs": [],
   "source": []
  }
 ],
 "metadata": {
  "kernelspec": {
   "display_name": "Python 3",
   "language": "python",
   "name": "python3"
  },
  "language_info": {
   "codemirror_mode": {
    "name": "ipython",
    "version": 3
   },
   "file_extension": ".py",
   "mimetype": "text/x-python",
   "name": "python",
   "nbconvert_exporter": "python",
   "pygments_lexer": "ipython3",
   "version": "3.7.3"
  }
 },
 "nbformat": 4,
 "nbformat_minor": 2
}
