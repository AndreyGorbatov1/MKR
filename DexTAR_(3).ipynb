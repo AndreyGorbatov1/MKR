{
  "nbformat": 4,
  "nbformat_minor": 0,
  "metadata": {
    "colab": {
      "name": "DexTAR (3).ipynb",
      "version": "0.3.2",
      "provenance": []
    },
    "language_info": {
      "codemirror_mode": {
        "name": "ipython",
        "version": 3
      },
      "file_extension": ".py",
      "mimetype": "text/x-python",
      "name": "python",
      "nbconvert_exporter": "python",
      "pygments_lexer": "ipython3",
      "version": "3.6.7"
    },
    "kernelspec": {
      "display_name": "Python 3",
      "language": "python",
      "name": "python3"
    }
  },
  "cells": [
    {
      "cell_type": "code",
      "metadata": {
        "id": "KorTIuyX8cJp",
        "colab_type": "code",
        "colab": {}
      },
      "source": [
        "import numpy as np\n",
        "import matplotlib.pyplot as plt\n",
        "from scipy.optimize import minimize, rosen, rosen_der\n",
        "import math\n",
        "import numpy.linalg as LA"
      ],
      "execution_count": 0,
      "outputs": []
    },
    {
      "cell_type": "code",
      "metadata": {
        "id": "vOh-EM8Q8cJw",
        "colab_type": "code",
        "colab": {}
      },
      "source": [
        "#Задаём константы\n",
        "tol = 0.01\n",
        "la = 13 # l у основания\n",
        "lb = 13 # l у основания\n",
        "lc = 4.25 #L\n",
        "ld = 4.25 #L\n",
        "d = 12\n",
        "work_space = []"
      ],
      "execution_count": 0,
      "outputs": []
    },
    {
      "cell_type": "code",
      "metadata": {
        "id": "ziABZ8_h8cJ1",
        "colab_type": "code",
        "colab": {}
      },
      "source": [
        "#     D1=(\n",
        "#         2 * (-1*(x+d/2)/(y)) * ( (x+d/2)**2/(2*y) + y/2 + (la**2-lc**2)/(2*y) )\n",
        "#         )**2\n",
        "#         -4*(1 + (x+d/2)**2/(y**2) ) * ( \n",
        "#                                         ( (x+d/2)**2/(2*y) + y/2 + (la**2-lc**2)/(2*y) )\n",
        "#                                         )**2 -la**2\n",
        "#                                      ) \n",
        "#     D2=(\n",
        "#         2 * (-1*(x-d/2)/(y)) * ( (x-d/2)**2/(2*y) + y/2 + (la**2-lc**2)/(2*y) )\n",
        "#         )**2\n",
        "#         -4*(1 + (x-d/2)**2/(y**2) ) * ( \n",
        "#                                         ( (x-d/2)**2/(2*y) + y/2 + (la**2-lc**2)/(2*y) )\n",
        "#                                         )**2 -la**2\n",
        "#                                      )     "
      ],
      "execution_count": 0,
      "outputs": []
    },
    {
      "cell_type": "code",
      "metadata": {
        "id": "oNK1MFQ78cJ5",
        "colab_type": "code",
        "colab": {}
      },
      "source": [
        "#задаём функцию, работающую, как чёрный ящик, которая принимает точку и d и говорит, попали ли мы в рабочую область\n",
        "def is_inside(x, y, d):\n",
        "    D1=(2 * (-1*(x)/(y)) * ( (x)**2/(2*y) + y/2 + (la**2-lc**2)/(2*y) ))**2 - 4*(1 + ((x)**2)/(y**2) ) * ( ( (x)**2/(2*y) + y/2 + (la**2-lc**2)/(2*y) )**2 - la**2) \n",
        "    D2=(2 * (-1*(x-d)/(y)) * ( (x-d)**2/(2*y) + y/2 + (la**2-lc**2)/(2*y) ))**2 - 4*(1 + ((x-d)**2)/(y**2) ) * ( ( (x-d)**2/(2*y) + y/2 + (la**2-lc**2)/(2*y) )**2 - la**2)     \n",
        "    if D1 >= 0 and D2 >= 0:\n",
        "        work_space.append([x,y])\n",
        "        return 1\n",
        "    return 0"
      ],
      "execution_count": 0,
      "outputs": []
    },
    {
      "cell_type": "code",
      "metadata": {
        "id": "mQMlUC408cJ9",
        "colab_type": "code",
        "colab": {
          "base_uri": "https://localhost:8080/",
          "height": 286
        },
        "outputId": "4af91584-9dba-4d2d-a9d6-23bcc6cbccd6"
      },
      "source": [
        "# окружности в питоне легче всего задавать через сферические координаты\n",
        "# тета меняется от 0 до 2pi\n",
        "theta = np.linspace(0, 2*np.pi, 100)\n",
        "\n",
        "x1 = (la+lc)*np.cos(theta)\n",
        "x2 = (la+lc)*np.sin(theta)\n",
        "x3 = 2*lc*np.cos(theta)\n",
        "x4 = 2*lc*np.sin(theta)\n",
        "x5 = (la+lc)*np.cos(theta)+d\n",
        "x6 = (la+lc)*np.sin(theta)\n",
        "x7 = 2*lc*np.cos(theta)+d\n",
        "x8 = 2*lc*np.sin(theta)\n",
        "\n",
        "#задаю сетку для расчёта рабочей области\n",
        "gr_x = np.linspace(-20, 20, 300)\n",
        "gr_y = np.linspace(-20, 20, 300)\n",
        "# gr_x = np.linspace(-(la+lc), la+lc+d, 250)\n",
        "# gr_y = np.linspace(-(la+lc), la+lc+d, 250)\n",
        "gr_X, gr_Y = np.meshgrid(gr_x,gr_y)\n",
        "    \n",
        "fig, ax = plt.subplots(1)\n",
        "ax.plot(x1, x2)\n",
        "ax.plot(x3, x4)\n",
        "ax.plot(x5, x6)\n",
        "ax.plot(x7, x8)\n",
        "ax.set_aspect(1)\n",
        "print('Robot work area:')\n",
        "# plt.show()\n",
        "\n",
        "# plt.scatter(gr_X, gr_Y, color = 'black')\n",
        "# plt.show()"
      ],
      "execution_count": 5,
      "outputs": [
        {
          "output_type": "stream",
          "text": [
            "Robot work area:\n"
          ],
          "name": "stdout"
        },
        {
          "output_type": "display_data",
          "data": {
            "image/png": "[encoded data removed]",
            "text/plain": [
              "<Figure size 432x288 with 1 Axes>"
            ]
          },
          "metadata": {
            "tags": []
          }
        }
      ]
    },
    {
      "cell_type": "code",
      "metadata": {
        "id": "Wupdof8R8cKH",
        "colab_type": "code",
        "colab": {}
      },
      "source": [
        "#функция подсчёта площади\n",
        "def count_area_new(d_iter):\n",
        "    S_square=len(gr_x)*len(gr_y) #50 000\n",
        "    number_of_points = len(gr_x)*len(gr_y) #50 000\n",
        "    number_inside = 0\n",
        "    for i in range(len(gr_x)):\n",
        "        for j in range(len(gr_y)):\n",
        "            number_inside+=is_inside(gr_x[i], gr_y[j], d_iter)\n",
        "#             is_gran(gr_x[i], gr_y[j], d_iter)\n",
        "    S=(S_square*number_inside/number_of_points)/2 # /2 из-за того, что области на графике две, но в реальности она одна\n",
        "    return S"
      ],
      "execution_count": 0,
      "outputs": []
    },
    {
      "cell_type": "code",
      "metadata": {
        "id": "7xylObbP8cKL",
        "colab_type": "code",
        "colab": {
          "base_uri": "https://localhost:8080/",
          "height": 34
        },
        "outputId": "b3d0107a-210d-44cd-d2ab-6bc59b1dc503"
      },
      "source": [
        "count_area_new(d)"
      ],
      "execution_count": 7,
      "outputs": [
        {
          "output_type": "execute_result",
          "data": {
            "text/plain": [
              "5113.0"
            ]
          },
          "metadata": {
            "tags": []
          },
          "execution_count": 7
        }
      ]
    },
    {
      "cell_type": "code",
      "metadata": {
        "id": "jjX_yC1C8cKS",
        "colab_type": "code",
        "colab": {}
      },
      "source": [
        "#work_space"
      ],
      "execution_count": 0,
      "outputs": []
    },
    {
      "cell_type": "code",
      "metadata": {
        "id": "zdXaHmpG8cKX",
        "colab_type": "code",
        "colab": {}
      },
      "source": [
        "# #d_iter = 1*l1min*2\n",
        "# d_iter = 0\n",
        "# step = 1\n",
        "# d_array = []\n",
        "# while d_iter < 1*la*2+1*lc*2:\n",
        "#     d_array.append([d_iter, count_area_new(d_iter)])\n",
        "#     d_iter+=step"
      ],
      "execution_count": 0,
      "outputs": []
    },
    {
      "cell_type": "code",
      "metadata": {
        "id": "LPik_kUu8cKb",
        "colab_type": "code",
        "colab": {}
      },
      "source": [
        "# максимальная рабочая область\n",
        "# max(d_array)"
      ],
      "execution_count": 0,
      "outputs": []
    },
    {
      "cell_type": "code",
      "metadata": {
        "id": "ye2xnkTq8cKg",
        "colab_type": "code",
        "colab": {}
      },
      "source": [
        "# d_array"
      ],
      "execution_count": 0,
      "outputs": []
    },
    {
      "cell_type": "code",
      "metadata": {
        "id": "4u_wRAvv8cKk",
        "colab_type": "code",
        "colab": {}
      },
      "source": [
        "# plt.plot(*zip(*d_array))"
      ],
      "execution_count": 0,
      "outputs": []
    },
    {
      "cell_type": "code",
      "metadata": {
        "id": "FIYCQ9Z58cKp",
        "colab_type": "code",
        "colab": {
          "base_uri": "https://localhost:8080/",
          "height": 286
        },
        "outputId": "71a95311-ccd0-4865-b4c1-cbd27060cab4"
      },
      "source": [
        "# отрисовка рабочей области\n",
        "print('Robot work area:')\n",
        "fig, ax = plt.subplots(1)\n",
        "ax.plot(x1, x2)\n",
        "ax.plot(x3, x4)\n",
        "ax.plot(x5, x6)\n",
        "ax.plot(x7, x8)\n",
        "plt.scatter(*zip(*work_space), color = 'orange', s=0.2)\n",
        "# plt.scatter(*zip(*gran), color = 'black')\n",
        "plt.show()"
      ],
      "execution_count": 10,
      "outputs": [
        {
          "output_type": "stream",
          "text": [
            "Robot work area:\n"
          ],
          "name": "stdout"
        },
        {
          "output_type": "display_data",
          "data": {
            "image/png": "[encoded data removed]",
            "text/plain": [
              "<Figure size 432x288 with 1 Axes>"
            ]
          },
          "metadata": {
            "tags": []
          }
        }
      ]
    },
    {
      "cell_type": "code",
      "metadata": {
        "id": "WYl9-OOc8cKu",
        "colab_type": "code",
        "colab": {}
      },
      "source": [
        "# #генерирую всевозможные углы\n",
        "# theta1 = np.linspace(np.pi/3, np.pi/3, 60)\n",
        "# theta2 = np.linspace(2*np.pi/3, 2*np.pi/3, 60)\n",
        "# phi1 = np.linspace(0, 2*np.pi, 60)\n",
        "# phi2 = np.linspace(0, 2*np.pi, 60)\n",
        "# sing1 = []\n",
        "# sing2 = []\n",
        "#генерирую всевозможные углы\n",
        "theta1 = np.linspace(1.09106769, 1.09106769, 60)\n",
        "theta2 = np.linspace(2.05052496, 2.05052496, 60)\n",
        "phi1 = np.linspace(0, 2*np.pi, 60)\n",
        "phi2 = np.linspace(0, 2*np.pi, 60)\n",
        "sing1 = []\n",
        "sing2 = []"
      ],
      "execution_count": 0,
      "outputs": []
    },
    {
      "cell_type": "code",
      "metadata": {
        "id": "f3iOblXi8cKz",
        "colab_type": "code",
        "colab": {}
      },
      "source": [
        "#функция, определяющая сингулярность\n",
        "# def dj(t1,t2,p1,p2):\n",
        "#     if p1==t1 or p1==t1+np.pi:\n",
        "#         sing.append([t1,t2,p1,p2])\n",
        "#         return 0\n",
        "#     if p2==t2 or p2==t2+np.pi:\n",
        "#         sing.append([t1,t2,p1,p2])\n",
        "#         return 0\n",
        "#     if p1==p2 or p2==p1+np.pi:\n",
        "#         sing.append([t1,t2,p1,p2])\n",
        "#         return 0\n",
        "#     return 0\n",
        "\n",
        "def dj(t1,t2,p1,p2):\n",
        "    if np.abs(p1-p2) < tol:\n",
        "        sing1.append([t1,t2,p1,p2])\n",
        "        return 0\n",
        "#     if (p2-p1-np.pi) < tol:\n",
        "#         sing2.append([t1,t2,p1,p2])\n",
        "#         return 0\n",
        "    return 0"
      ],
      "execution_count": 0,
      "outputs": []
    },
    {
      "cell_type": "code",
      "metadata": {
        "id": "Dp7gVtF-8cK4",
        "colab_type": "code",
        "colab": {}
      },
      "source": [
        "#перебираю все комбинации углов на удовлетворение условиям сингулярности\n",
        "for i in range(len(theta1)):\n",
        "    for j in range(len(theta2)):\n",
        "        for k in range(len(phi1)):\n",
        "            for m in range(len(phi2)):\n",
        "                dj(theta1[i], theta2[j], phi1[k], phi2[m])"
      ],
      "execution_count": 0,
      "outputs": []
    },
    {
      "cell_type": "code",
      "metadata": {
        "id": "0GqQzFnz8cK-",
        "colab_type": "code",
        "colab": {
          "base_uri": "https://localhost:8080/",
          "height": 34
        },
        "outputId": "c3e0d70c-2e16-4cdf-c9da-6d5a0e3ef5dc"
      },
      "source": [
        "sing2"
      ],
      "execution_count": 14,
      "outputs": [
        {
          "output_type": "execute_result",
          "data": {
            "text/plain": [
              "[]"
            ]
          },
          "metadata": {
            "tags": []
          },
          "execution_count": 14
        }
      ]
    },
    {
      "cell_type": "code",
      "metadata": {
        "id": "8j3lVHED8cLE",
        "colab_type": "code",
        "colab": {
          "base_uri": "https://localhost:8080/",
          "height": 34
        },
        "outputId": "f4efd795-2978-4935-871b-40bf9aac6f11"
      },
      "source": [
        "len(sing2)"
      ],
      "execution_count": 15,
      "outputs": [
        {
          "output_type": "execute_result",
          "data": {
            "text/plain": [
              "0"
            ]
          },
          "metadata": {
            "tags": []
          },
          "execution_count": 15
        }
      ]
    },
    {
      "cell_type": "code",
      "metadata": {
        "id": "tp0DUVh98cLJ",
        "colab_type": "code",
        "colab": {
          "base_uri": "https://localhost:8080/",
          "height": 34
        },
        "outputId": "37b43019-d70e-4c3c-f39e-9c9b1e16eeb5"
      },
      "source": [
        "len(sing1)"
      ],
      "execution_count": 16,
      "outputs": [
        {
          "output_type": "execute_result",
          "data": {
            "text/plain": [
              "216000"
            ]
          },
          "metadata": {
            "tags": []
          },
          "execution_count": 16
        }
      ]
    },
    {
      "cell_type": "code",
      "metadata": {
        "id": "OfQUZtWW8cLR",
        "colab_type": "code",
        "colab": {}
      },
      "source": [
        "# for i in range(len(sing)):\n",
        "#     if sing[i][0]==sing[i][2]:\n",
        "#         print (\"0: \"+str(sing[i][0]))\n",
        "#         print (\"2: \"+str(sing[i][2]))"
      ],
      "execution_count": 0,
      "outputs": []
    },
    {
      "cell_type": "code",
      "metadata": {
        "scrolled": true,
        "id": "--3eWrtl8cLX",
        "colab_type": "code",
        "colab": {
          "base_uri": "https://localhost:8080/",
          "height": 286
        },
        "outputId": "782ee47e-b4d0-4209-f7f6-cfba41d3f43a"
      },
      "source": [
        "#HERE\n",
        "\n",
        "#отсеиваю те углы, которые не подходят по условиям закрытости цепи и получаю коордитаны линий сингулярности в х и у\n",
        "#с чистыми уравнениями связи\n",
        "sing_xy1 = []\n",
        "sing_xy2 = []\n",
        "aa = []\n",
        "for i in range(len(sing1)):\n",
        "    #aa.append(np.abs(lc*np.cos(sing1[i][0])+la*np.cos(sing1[i][2]) - ( d + lc*np.cos(sing1[i][1])+la*np.cos(sing1[i][3])) ))\n",
        "    if np.abs(la*np.cos(sing1[i][0])+lc*np.cos(sing1[i][2]) - ( d + la*np.cos(sing1[i][1])+lc*np.cos(sing1[i][3])) ) <= tol:\n",
        "#         print(\"aaaaa\")\n",
        "        if np.abs(la*np.sin(sing1[i][0])+lc*np.sin(sing1[i][2]) - la*np.sin(sing1[i][1])-lc*np.sin(sing1[i][3]) ) <= tol:\n",
        "#             print(\"bbbbb\")\n",
        "            sing_xy1.append( [ la*np.cos(sing1[i][0])+lc*np.cos(sing1[i][2]), la*np.sin(sing1[i][0])+lc*np.sin(sing1[i][2])] )\n",
        "            sing_xy2.append( [ la*np.cos(sing1[i][0])+lc*np.cos(sing1[i][2]), -la*np.sin(sing1[i][0])-lc*np.sin(sing1[i][2])] )    \n",
        "#строю линии сингулярности в координатах х у\n",
        "print('Robot singularity area:')\n",
        "plt.scatter(*zip(*sing_xy1), color = 'orange', s=0.5)\n",
        "plt.scatter(*zip(*sing_xy2), color = 'orange', s=0.5)\n",
        "plt.show()"
      ],
      "execution_count": 18,
      "outputs": [
        {
          "output_type": "stream",
          "text": [
            "Robot singularity area:\n"
          ],
          "name": "stdout"
        },
        {
          "output_type": "display_data",
          "data": {
            "image/png": "[encoded data removed]",
            "text/plain": [
              "<Figure size 432x288 with 1 Axes>"
            ]
          },
          "metadata": {
            "tags": []
          }
        }
      ]
    },
    {
      "cell_type": "code",
      "metadata": {
        "id": "ZqzTYj5V8cLd",
        "colab_type": "code",
        "colab": {}
      },
      "source": [
        "np.min(aa)"
      ],
      "execution_count": 0,
      "outputs": []
    },
    {
      "cell_type": "code",
      "metadata": {
        "id": "PZKZazjQ8cLh",
        "colab_type": "code",
        "colab": {}
      },
      "source": [
        "np.cos(np.pi-0.0001)"
      ],
      "execution_count": 0,
      "outputs": []
    },
    {
      "cell_type": "code",
      "metadata": {
        "id": "VjyqTg8Y8cLm",
        "colab_type": "code",
        "colab": {}
      },
      "source": [
        "#отсеиваю те углы, которые не подходят по условиям закрытости цепи и получаю коордитаны линий сингулярности в х и у\n",
        "#после упрощений\n",
        "sing_xy1 = []\n",
        "for i in range(len(sing1)):\n",
        "    if np.abs(sing1[i][0] - np.pi + sing1[i][1] ) <= 10: #из-за погрешности заполнения теты (np.pi-3.088345320478=0.05324733311179308)\n",
        "#         print(\"aaa\")\n",
        "        if np.abs(2*lc*np.cos(sing1[i][0]) - d ) <= 2*lc*45:\n",
        "#             print(\"bbbbb\")\n",
        "            sing_xy1.append( [ lc*np.cos(sing1[i][0])+la*np.cos(sing1[i][2]), lc*np.sin(sing1[i][0])+la*np.sin(sing1[i][2])] )\n",
        "    \n",
        "#строю линии сингулярности в координатах х у\n",
        "print('Robot singularity area:')\n",
        "plt.scatter(*zip(*sing_xy1), color = 'orange', s=0.5)\n",
        "plt.show()"
      ],
      "execution_count": 0,
      "outputs": []
    },
    {
      "cell_type": "code",
      "metadata": {
        "id": "Lv2jV8Xp8cLr",
        "colab_type": "code",
        "colab": {}
      },
      "source": [
        "#строю линии сингулярности в координатах х у\n",
        "print('Robot singularity area:')\n",
        "plt.scatter(*zip(*work_space), color = 'black', s=20)\n",
        "plt.scatter(*zip(*sing_xy1), color = 'orange', s=0.5)\n",
        "#plt.savefig('C:\\\\Users\\Andrej\\Desktop\\foo.png')\n",
        "plt.show()"
      ],
      "execution_count": 0,
      "outputs": []
    },
    {
      "cell_type": "code",
      "metadata": {
        "id": "ulAQ1pkj8cLw",
        "colab_type": "code",
        "colab": {}
      },
      "source": [
        "output = []\n",
        "trends = []\n",
        "\n",
        "for i in range(len(sing1)):\n",
        "    trends.append([sing1[i][1]])\n",
        "\n",
        "for x in trends:\n",
        "    if x not in output:\n",
        "        output.append(x)\n",
        "print (output)"
      ],
      "execution_count": 0,
      "outputs": []
    },
    {
      "cell_type": "code",
      "metadata": {
        "id": "9AFgUdBy8cLz",
        "colab_type": "code",
        "colab": {}
      },
      "source": [
        "np.pi-3.088345320478"
      ],
      "execution_count": 0,
      "outputs": []
    },
    {
      "cell_type": "code",
      "metadata": {
        "id": "9esnJiSo8cL3",
        "colab_type": "code",
        "colab": {}
      },
      "source": [
        "import os\n",
        "cwd = os.getcwd()\n",
        "cwd"
      ],
      "execution_count": 0,
      "outputs": []
    },
    {
      "cell_type": "code",
      "metadata": {
        "id": "81PwAnRp8cL8",
        "colab_type": "code",
        "colab": {}
      },
      "source": [
        ""
      ],
      "execution_count": 0,
      "outputs": []
    },
    {
      "cell_type": "code",
      "metadata": {
        "id": "qVvzPT938cMD",
        "colab_type": "code",
        "colab": {}
      },
      "source": [
        ""
      ],
      "execution_count": 0,
      "outputs": []
    },
    {
      "cell_type": "code",
      "metadata": {
        "id": "RwqI5DBQ8cMH",
        "colab_type": "code",
        "colab": {}
      },
      "source": [
        ""
      ],
      "execution_count": 0,
      "outputs": []
    },
    {
      "cell_type": "code",
      "metadata": {
        "id": "ymtv4swO8cMK",
        "colab_type": "code",
        "colab": {}
      },
      "source": [
        ""
      ],
      "execution_count": 0,
      "outputs": []
    },
    {
      "cell_type": "code",
      "metadata": {
        "id": "6ubG6WPN8cMO",
        "colab_type": "code",
        "colab": {}
      },
      "source": [
        "#отсеиваю те углы, которые не подходят по условиям закрытости цепи и получаю коордитаны линий сингулярности в х и у\n",
        "sing_xy = []\n",
        "\n",
        "for i in range(len(sing)):\n",
        "    if np.abs(lc*np.cos(sing[i][0])+la*np.cos(sing[i][2]) - ( d + lc*np.cos(sing[i][1])+la*np.cos(sing[i][3])) ) <= tol:\n",
        "        print(\"asda\")\n",
        "        if np.abs(lc*np.sin(sing[i][0])+la*np.sin(sing[i][2]) - lc*np.sin(sing[i][1])-la*np.sin(sing[i][3]) ) <= tol:\n",
        "            sing_xy.append( [ lc*np.cos(sing[i][0])+la*np.cos(sing[i][2]), lc*np.sin(sing[i][0])+la*np.sin(sing[i][2])] )\n",
        "            \n"
      ],
      "execution_count": 0,
      "outputs": []
    },
    {
      "cell_type": "code",
      "metadata": {
        "id": "HfQOwZtJ8cMR",
        "colab_type": "code",
        "colab": {}
      },
      "source": [
        ""
      ],
      "execution_count": 0,
      "outputs": []
    },
    {
      "cell_type": "code",
      "metadata": {
        "id": "u6qUQYET8cMV",
        "colab_type": "code",
        "colab": {}
      },
      "source": [
        "#pos\n",
        "\n",
        "\n",
        "#отсеиваю те углы, которые не подходят по условиям закрытости цепи и получаю коордитаны линий сингулярности в х и у\n",
        "#после упрощений\n",
        "sing_xy1 = []\n",
        "for i in range(len(sing1)):\n",
        "    x1=lc*np.cos(sing1[i][2])+la*np.cos(sing1[i][1])+d/2\n",
        "    x2=lc*np.cos(sing1[i][0])+la*np.cos(sing1[i][3])-d/2    \n",
        "    y1=lc*np.sin(sing1[i][2])+la*np.sin(sing1[i][1])\n",
        "    y2=lc*np.sin(sing1[i][0])+la*np.sin(sing1[i][3])\n",
        "    if np.abs(x1 - x2) < 0.01 and np.abs(y1 - y2) < 0.01 : #из-за погрешности заполнения теты (np.pi-3.088345320478=0.05324733311179308)\n",
        "        #print(\"aaa\")\n",
        "\n",
        "        sing_xy1.append([x1, y1])\n",
        "    \n",
        "#строю линии сингулярности в координатах х у\n",
        "print('Robot singularity area:')\n",
        "plt.scatter(*zip(*sing_xy1), color = 'orange', s=1)\n",
        "plt.show()"
      ],
      "execution_count": 0,
      "outputs": []
    },
    {
      "cell_type": "code",
      "metadata": {
        "id": "84b3zF3j8cMa",
        "colab_type": "code",
        "colab": {}
      },
      "source": [
        "#last\n",
        "\n",
        "\n",
        "#отсеиваю те углы, которые не подходят по условиям закрытости цепи и получаю коордитаны линий сингулярности в х и у\n",
        "#после упрощений\n",
        "sing_xy1 = []\n",
        "for i in range(len(sing1)):\n",
        "\n",
        "    la*np.cos(sing1[0])+lc*np.cos(sing1[2]) - ( d + la*np.cos(sing1[1])+lc*np.cos(sing1[3]))\n",
        "    la*np.sin(sing1[0])+lc*np.sin(sing1[2]) - la*np.sin(sing1[1])-lc*np.sin(sing1[3]) \n",
        "\n",
        "\n",
        "    sing_xy1.append([x1, y1])\n",
        "    \n",
        "#строю линии сингулярности в координатах х у\n",
        "print('Robot singularity area:')\n",
        "plt.scatter(*zip(*sing_xy1), color = 'orange', s=1)\n",
        "plt.show()"
      ],
      "execution_count": 0,
      "outputs": []
    },
    {
      "cell_type": "code",
      "metadata": {
        "scrolled": true,
        "id": "Zp9-Tiho8cMg",
        "colab_type": "code",
        "colab": {}
      },
      "source": [
        "#last2\n",
        "\n",
        "\n",
        "#отсеиваю те углы, которые не подходят по условиям закрытости цепи и получаю коордитаны линий сингулярности в х и у\n",
        "#после упрощений\n",
        "sing_xy1 = []\n",
        "for i in range(len(sing1)):\n",
        "    x1=la*np.cos(sing1[i][2])+d/2\n",
        "   \n",
        "    y1=la*np.sin(sing1[i][2])\n",
        "\n",
        "\n",
        "    sing_xy1.append([x1, y1])\n",
        "    \n",
        "#строю линии сингулярности в координатах х у\n",
        "print('Robot singularity area:')\n",
        "plt.scatter(*zip(*sing_xy1), color = 'orange', s=1)\n",
        "plt.show()"
      ],
      "execution_count": 0,
      "outputs": []
    },
    {
      "cell_type": "code",
      "metadata": {
        "id": "On6xSS2l8cMk",
        "colab_type": "code",
        "colab": {}
      },
      "source": [
        ""
      ],
      "execution_count": 0,
      "outputs": []
    },
    {
      "cell_type": "code",
      "metadata": {
        "id": "DgaoQfDH8cMn",
        "colab_type": "code",
        "colab": {}
      },
      "source": [
        ""
      ],
      "execution_count": 0,
      "outputs": []
    },
    {
      "cell_type": "code",
      "metadata": {
        "id": "5qmfcjqq8cMs",
        "colab_type": "code",
        "colab": {}
      },
      "source": [
        ""
      ],
      "execution_count": 0,
      "outputs": []
    },
    {
      "cell_type": "code",
      "metadata": {
        "id": "oPWwnBTp8cMz",
        "colab_type": "code",
        "colab": {}
      },
      "source": [
        ""
      ],
      "execution_count": 0,
      "outputs": []
    },
    {
      "cell_type": "code",
      "metadata": {
        "id": "vxbSYd308cM2",
        "colab_type": "code",
        "colab": {}
      },
      "source": [
        ""
      ],
      "execution_count": 0,
      "outputs": []
    },
    {
      "cell_type": "code",
      "metadata": {
        "id": "eE9YgMz68cM6",
        "colab_type": "code",
        "colab": {}
      },
      "source": [
        "def f1(x):\n",
        "    return (x[2]-x[3])**2\n",
        "\n",
        "def f2(x):\n",
        "    return (la*np.cos(x[0])+lc*np.cos(x[2]) - ( d + la*np.cos(x[1])+lc*np.cos(x[3])) )**2\n",
        "\n",
        "def f3(x):\n",
        "    return (la*np.sin(x[0])+lc*np.sin(x[2]) - la*np.sin(x[1])-lc*np.sin(x[3]) )**2\n",
        "\n",
        "\n",
        "def F1(x):\n",
        "    return f1(x)+f2(x)+f3(x)"
      ],
      "execution_count": 0,
      "outputs": []
    },
    {
      "cell_type": "code",
      "metadata": {
        "id": "GK6Exu6x8cM9",
        "colab_type": "code",
        "colab": {
          "base_uri": "https://localhost:8080/",
          "height": 34
        },
        "outputId": "0670f888-3251-447c-8b51-bc0d56d38741"
      },
      "source": [
        "# x0 = [1, 3, 1, 0.7]\n",
        "x0 = [1, 3, 1, 2]\n",
        "res1 = minimize(F1, x0, method='Nelder-Mead', tol=1e-9)\n",
        "res1.x"
      ],
      "execution_count": 20,
      "outputs": [
        {
          "output_type": "execute_result",
          "data": {
            "text/plain": [
              "array([1.09106769, 2.05052496, 1.54569039, 1.54569039])"
            ]
          },
          "metadata": {
            "tags": []
          },
          "execution_count": 20
        }
      ]
    },
    {
      "cell_type": "code",
      "metadata": {
        "id": "PotAM0228cND",
        "colab_type": "code",
        "colab": {
          "base_uri": "https://localhost:8080/",
          "height": 34
        },
        "outputId": "c2a9f95f-955f-4990-812f-e51396051db9"
      },
      "source": [
        "res1.x[1]+res1.x[0]"
      ],
      "execution_count": 21,
      "outputs": [
        {
          "output_type": "execute_result",
          "data": {
            "text/plain": [
              "3.1415926536062084"
            ]
          },
          "metadata": {
            "tags": []
          },
          "execution_count": 21
        }
      ]
    },
    {
      "cell_type": "code",
      "metadata": {
        "id": "m5NtxcO38cNN",
        "colab_type": "code",
        "colab": {},
        "outputId": "b2293b6f-1346-441c-b7da-df19006f2de9"
      },
      "source": [
        "np.pi/3"
      ],
      "execution_count": 0,
      "outputs": [
        {
          "output_type": "execute_result",
          "data": {
            "text/plain": [
              "1.0471975511965976"
            ]
          },
          "metadata": {
            "tags": []
          },
          "execution_count": 22
        }
      ]
    },
    {
      "cell_type": "code",
      "metadata": {
        "id": "4awhjbHF8cNW",
        "colab_type": "code",
        "colab": {}
      },
      "source": [
        ""
      ],
      "execution_count": 0,
      "outputs": []
    },
    {
      "cell_type": "code",
      "metadata": {
        "id": "V-kZJJXd8cNZ",
        "colab_type": "code",
        "colab": {}
      },
      "source": [
        ""
      ],
      "execution_count": 0,
      "outputs": []
    },
    {
      "cell_type": "code",
      "metadata": {
        "id": "rVC4PZ6s8cNg",
        "colab_type": "code",
        "colab": {
          "base_uri": "https://localhost:8080/",
          "height": 286
        },
        "outputId": "a4a13fa4-925b-475a-9a2c-47f251790cad"
      },
      "source": [
        "# отрисовка рабочей области\n",
        "print('Robot work area:')\n",
        "fig, ax = plt.subplots(1)\n",
        "ax.plot(x1, x2)\n",
        "ax.plot(x3, x4)\n",
        "ax.plot(x5, x6)\n",
        "ax.plot(x7, x8)\n",
        "plt.scatter(*zip(*work_space), color = 'orange')\n",
        "plt.scatter(*zip(*sing_xy1), color = 'black', s=0.5)\n",
        "plt.scatter(*zip(*sing_xy2), color = 'black', s=0.5)\n",
        "# plt.scatter(*zip(*gran), color = 'black')\n",
        "plt.show()"
      ],
      "execution_count": 22,
      "outputs": [
        {
          "output_type": "stream",
          "text": [
            "Robot work area:\n"
          ],
          "name": "stdout"
        },
        {
          "output_type": "display_data",
          "data": {
            "image/png": "[encoded data removed]",
            "text/plain": [
              "<Figure size 432x288 with 1 Axes>"
            ]
          },
          "metadata": {
            "tags": []
          }
        }
      ]
    },
    {
      "cell_type": "code",
      "metadata": {
        "id": "kgtzVnMw8cNo",
        "colab_type": "code",
        "colab": {}
      },
      "source": [
        "def f4(x):\n",
        "    return (x[3]-x[2]-np.pi)**2\n",
        "\n",
        "def f5(x):\n",
        "    return (la*np.cos(x[0])+lc*np.cos(x[2]) - ( d + la*np.cos(x[1])+lc*np.cos(x[3])) )**2\n",
        "\n",
        "def f6(x):\n",
        "    return (la*np.sin(x[0])+lc*np.sin(x[2]) - la*np.sin(x[1])-lc*np.sin(x[3]) )**2\n",
        "\n",
        "\n",
        "def F2(x):\n",
        "    return f4(x)+f5(x)+f6(x)"
      ],
      "execution_count": 0,
      "outputs": []
    },
    {
      "cell_type": "code",
      "metadata": {
        "id": "DbwLdWCk8cNs",
        "colab_type": "code",
        "colab": {}
      },
      "source": [
        "# x0 = [1, 3, 1, 0.7]\n",
        "x0 = [0.95, 3, 1,3]\n",
        "res2 = minimize(F2, x0, method='Nelder-Mead', tol=1e-9)\n",
        "res2.x"
      ],
      "execution_count": 0,
      "outputs": []
    },
    {
      "cell_type": "code",
      "metadata": {
        "id": "L2P9sovT8cNw",
        "colab_type": "code",
        "colab": {}
      },
      "source": [
        "res2.x[1]-res2.x[0]"
      ],
      "execution_count": 0,
      "outputs": []
    },
    {
      "cell_type": "code",
      "metadata": {
        "id": "GOawmdT18cN4",
        "colab_type": "code",
        "colab": {},
        "outputId": "4fd3cef4-d60d-4f0e-b9e2-88d22165a2bf"
      },
      "source": [
        "np.pi*(20/100)"
      ],
      "execution_count": 0,
      "outputs": [
        {
          "output_type": "execute_result",
          "data": {
            "text/plain": [
              "0.6283185307179586"
            ]
          },
          "metadata": {
            "tags": []
          },
          "execution_count": 57
        }
      ]
    },
    {
      "cell_type": "code",
      "metadata": {
        "id": "0CRXkMk98cN8",
        "colab_type": "code",
        "colab": {}
      },
      "source": [
        "#генерирую всевозможные углы\n",
        "theta1 = np.linspace(0.89522253, 0.89522253, 60)\n",
        "theta2 = np.linspace(1.22830265, 1.22830265, 60)\n",
        "phi1 = np.linspace(0, 2*np.pi, 60)\n",
        "phi2 = np.linspace(0, 2*np.pi, 60)\n",
        "sing3 = []\n",
        "sing4 = []\n",
        "\n",
        "def dj2(t1,t2,p1,p2):\n",
        "#     if np.abs(p1-p2) < tol:\n",
        "#         sing1.append([t1,t2,p1,p2])\n",
        "#         return 0\n",
        "    if (p2-p1-np.pi) < tol:\n",
        "        sing3.append([t1,t2,p1,p2])\n",
        "        return 0\n",
        "    return 0"
      ],
      "execution_count": 0,
      "outputs": []
    },
    {
      "cell_type": "code",
      "metadata": {
        "id": "6FQqjCsg8cOA",
        "colab_type": "code",
        "colab": {}
      },
      "source": [
        "#перебираю все комбинации углов на удовлетворение условиям сингулярности\n",
        "for i in range(len(theta1)):\n",
        "    for j in range(len(theta2)):\n",
        "        for k in range(len(phi1)):\n",
        "            for m in range(len(phi2)):\n",
        "                dj2(theta1[i], theta2[j], phi1[k], phi2[m])"
      ],
      "execution_count": 0,
      "outputs": []
    },
    {
      "cell_type": "code",
      "metadata": {
        "id": "0RsFGIo68cOD",
        "colab_type": "code",
        "colab": {
          "base_uri": "https://localhost:8080/",
          "height": 286
        },
        "outputId": "0c4ffbe8-7e52-4243-94e5-a549faf526b7"
      },
      "source": [
        "#HERE2\n",
        "\n",
        "#отсеиваю те углы, которые не подходят по условиям закрытости цепи и получаю коордитаны линий сингулярности в х и у\n",
        "#с чистыми уравнениями связи\n",
        "sing_xy3 = []\n",
        "sing_xy4 = []\n",
        "aa = []\n",
        "for i in range(len(sing3)):\n",
        "    #aa.append(np.abs(lc*np.cos(sing1[i][0])+la*np.cos(sing1[i][2]) - ( d + lc*np.cos(sing1[i][1])+la*np.cos(sing1[i][3])) ))\n",
        "    if np.abs(la*np.cos(sing3[i][0])+lc*np.cos(sing3[i][2]) - ( d + la*np.cos(sing3[i][1])+lc*np.cos(sing3[i][3])) ) <= tol*1000:\n",
        "#         print(\"aaaaa\")\n",
        "        if np.abs(la*np.sin(sing3[i][0])+lc*np.sin(sing3[i][2]) - la*np.sin(sing3[i][1])-lc*np.sin(sing3[i][3]) ) <= tol*1000:\n",
        "#             print(\"bbbbb\")\n",
        "            sing_xy3.append( [ la*np.cos(sing3[i][0])+lc*np.cos(sing3[i][2]), la*np.sin(sing3[i][0])+lc*np.sin(sing3[i][2])] )\n",
        "            sing_xy4.append( [ la*np.cos(sing3[i][0])+lc*np.cos(sing3[i][2]), -la*np.sin(sing3[i][0])-lc*np.sin(sing3[i][2])] )  \n",
        "#строю линии сингулярности в координатах х у\n",
        "print('Robot singularity area:')\n",
        "plt.scatter(*zip(*sing_xy3), color = 'orange', s=0.5)\n",
        "plt.scatter(*zip(*sing_xy4), color = 'orange', s=0.5)\n",
        "plt.show()"
      ],
      "execution_count": 26,
      "outputs": [
        {
          "output_type": "stream",
          "text": [
            "Robot singularity area:\n"
          ],
          "name": "stdout"
        },
        {
          "output_type": "display_data",
          "data": {
            "image/png": "[encoded data removed]",
            "text/plain": [
              "<Figure size 432x288 with 1 Axes>"
            ]
          },
          "metadata": {
            "tags": []
          }
        }
      ]
    },
    {
      "cell_type": "code",
      "metadata": {
        "id": "wYeU33KT8cOH",
        "colab_type": "code",
        "colab": {
          "base_uri": "https://localhost:8080/",
          "height": 286
        },
        "outputId": "6565c098-8167-4883-f98e-a6cff6ca3827"
      },
      "source": [
        "# отрисовка рабочей области\n",
        "print('Robot work area:')\n",
        "fig, ax = plt.subplots(1)\n",
        "ax.plot(x1, x2)\n",
        "ax.plot(x3, x4)\n",
        "ax.plot(x5, x6)\n",
        "ax.plot(x7, x8)\n",
        "plt.scatter(*zip(*work_space), color = 'orange')\n",
        "plt.scatter(*zip(*sing_xy1), color = 'black', s=0.25)\n",
        "plt.scatter(*zip(*sing_xy2), color = 'black', s=0.25)\n",
        "plt.scatter(*zip(*sing_xy3), color = 'red', s=0.25)\n",
        "plt.scatter(*zip(*sing_xy4), color = 'red', s=0.25)\n",
        "# plt.scatter(*zip(*gran), color = 'black')\n",
        "plt.show()"
      ],
      "execution_count": 29,
      "outputs": [
        {
          "output_type": "stream",
          "text": [
            "Robot work area:\n"
          ],
          "name": "stdout"
        },
        {
          "output_type": "display_data",
          "data": {
            "image/png": "[encoded data removed]",
            "text/plain": [
              "<Figure size 432x288 with 1 Axes>"
            ]
          },
          "metadata": {
            "tags": []
          }
        }
      ]
    },
    {
      "cell_type": "code",
      "metadata": {
        "id": "Kfq5b0CdBRp7",
        "colab_type": "code",
        "colab": {}
      },
      "source": [
        ""
      ],
      "execution_count": 0,
      "outputs": []
    }
  ]
}